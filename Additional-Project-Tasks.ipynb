{
 "cells": [
  {
   "cell_type": "markdown",
   "id": "1ec8294f",
   "metadata": {},
   "source": [
    "# Additional Project Tasks\n",
    "\n",
    "## 1. Importing/Using Database to load data\n",
    "## 2. Using Regex and Dictionary/Lists\n",
    "## 3. Merging the data"
   ]
  },
  {
   "cell_type": "markdown",
   "id": "8d159f5e",
   "metadata": {},
   "source": [
    "### 1. Import Required Modules"
   ]
  },
  {
   "cell_type": "code",
   "execution_count": 1,
   "id": "f707be46",
   "metadata": {},
   "outputs": [],
   "source": [
    "# Import required modules\n",
    "import csv\n",
    "import sqlite3\n",
    "import pandas as pd\n",
    "import numpy as np\n",
    "import math\n",
    "import os\n",
    "import glob\n",
    "\n",
    "import warnings\n",
    "warnings.filterwarnings(\"ignore\")\n"
   ]
  },
  {
   "cell_type": "markdown",
   "id": "a196c767",
   "metadata": {},
   "source": [
    "## 2. Importing Data from Database"
   ]
  },
  {
   "cell_type": "code",
   "execution_count": 2,
   "id": "3a33b070",
   "metadata": {},
   "outputs": [
    {
     "name": "stdout",
     "output_type": "stream",
     "text": [
      "(145460, 23)\n"
     ]
    }
   ],
   "source": [
    "# ----------------------------------------------------------------------------------------------------\n",
    "# Assignment Objective 2.1 : Your project should make use of one or more of the following: Relational\n",
    "# database, API or web scraping\n",
    "# I am using Relational SQLITE database already created by me using TablePlus Tool\n",
    "# ----------------------------------------------------------------------------------------------------\n",
    "\n",
    "# Read sqlite query results into a pandas DataFrame\n",
    "connection = sqlite3.connect(\"weatherAUS.db\")\n",
    "df_db = pd.read_sql_query(\"SELECT * FROM  weatherAUS\", connection)\n",
    "\n",
    "# Verify that result of SQL query is stored in the dataframe\n",
    "print(df_db.shape)\n",
    "\n",
    "#Close the sqlite connection\n",
    "connection.close()"
   ]
  },
  {
   "cell_type": "code",
   "execution_count": 3,
   "id": "a1720e7e",
   "metadata": {},
   "outputs": [
    {
     "name": "stdout",
     "output_type": "stream",
     "text": [
      "<class 'pandas.core.frame.DataFrame'>\n",
      "RangeIndex: 145460 entries, 0 to 145459\n",
      "Data columns (total 23 columns):\n",
      " #   Column         Non-Null Count   Dtype \n",
      "---  ------         --------------   ----- \n",
      " 0   Date           145460 non-null  object\n",
      " 1   Location       145460 non-null  object\n",
      " 2   MinTemp        145460 non-null  object\n",
      " 3   MaxTemp        145460 non-null  object\n",
      " 4   Rainfall       145460 non-null  object\n",
      " 5   Evaporation    145460 non-null  object\n",
      " 6   Sunshine       145460 non-null  object\n",
      " 7   WindGustDir    145460 non-null  object\n",
      " 8   WindGustSpeed  145460 non-null  object\n",
      " 9   WindDir9am     145460 non-null  object\n",
      " 10  WindDir3pm     145460 non-null  object\n",
      " 11  WindSpeed9am   145460 non-null  object\n",
      " 12  WindSpeed3pm   145460 non-null  object\n",
      " 13  Humidity9am    145460 non-null  object\n",
      " 14  Humidity3pm    145460 non-null  object\n",
      " 15  Pressure9am    145460 non-null  object\n",
      " 16  Pressure3pm    145460 non-null  object\n",
      " 17  Cloud9am       145460 non-null  object\n",
      " 18  Cloud3pm       145460 non-null  object\n",
      " 19  Temp9am        145460 non-null  object\n",
      " 20  Temp3pm        145460 non-null  object\n",
      " 21  RainToday      145460 non-null  object\n",
      " 22  RainTomorrow   145460 non-null  object\n",
      "dtypes: object(23)\n",
      "memory usage: 25.5+ MB\n",
      "None\n"
     ]
    }
   ],
   "source": [
    "#Print the dataframe information\n",
    "print(df_db.info())"
   ]
  },
  {
   "cell_type": "markdown",
   "id": "91410d2e",
   "metadata": {},
   "source": [
    "### Using Regex and dictionary"
   ]
  },
  {
   "cell_type": "code",
   "execution_count": 4,
   "id": "5b16ba34",
   "metadata": {},
   "outputs": [],
   "source": [
    "import re\n",
    "import requests"
   ]
  },
  {
   "cell_type": "code",
   "execution_count": 5,
   "id": "c0efc7b5",
   "metadata": {},
   "outputs": [
    {
     "data": {
      "text/html": [
       "<div>\n",
       "<style scoped>\n",
       "    .dataframe tbody tr th:only-of-type {\n",
       "        vertical-align: middle;\n",
       "    }\n",
       "\n",
       "    .dataframe tbody tr th {\n",
       "        vertical-align: top;\n",
       "    }\n",
       "\n",
       "    .dataframe thead th {\n",
       "        text-align: right;\n",
       "    }\n",
       "</style>\n",
       "<table border=\"1\" class=\"dataframe\">\n",
       "  <thead>\n",
       "    <tr style=\"text-align: right;\">\n",
       "      <th></th>\n",
       "      <th>ID</th>\n",
       "      <th>Name</th>\n",
       "      <th>Address</th>\n",
       "    </tr>\n",
       "  </thead>\n",
       "  <tbody>\n",
       "    <tr>\n",
       "      <th>0</th>\n",
       "      <td>1</td>\n",
       "      <td>X</td>\n",
       "      <td>X resides at Pincode 12345</td>\n",
       "    </tr>\n",
       "    <tr>\n",
       "      <th>1</th>\n",
       "      <td>2</td>\n",
       "      <td>Y</td>\n",
       "      <td>Y resides at Pincode 45678</td>\n",
       "    </tr>\n",
       "    <tr>\n",
       "      <th>2</th>\n",
       "      <td>3</td>\n",
       "      <td>Z</td>\n",
       "      <td>Z stays at Pincode 89765</td>\n",
       "    </tr>\n",
       "  </tbody>\n",
       "</table>\n",
       "</div>"
      ],
      "text/plain": [
       "   ID Name                     Address\n",
       "0   1    X  X resides at Pincode 12345\n",
       "1   2    Y  Y resides at Pincode 45678\n",
       "2   3    Z    Z stays at Pincode 89765"
      ]
     },
     "execution_count": 5,
     "metadata": {},
     "output_type": "execute_result"
    }
   ],
   "source": [
    "#Let's first create a Pandas dataframe with person id, name and where he/she resides\n",
    "\n",
    "details = {'ID': [1,2,3], \n",
    "           'Name': ['X','Y','Z'], \n",
    "           'Address': ['X resides at Pincode 12345', 'Y resides at Pincode 45678','Z stays at Pincode 89765']}\n",
    "# Create DataFrame\n",
    "df = pd.DataFrame(details)\n",
    "  \n",
    "# Print the output.\n",
    "df"
   ]
  },
  {
   "cell_type": "code",
   "execution_count": 6,
   "id": "8053fde8",
   "metadata": {},
   "outputs": [],
   "source": [
    "# We now have the df dataframe, now we can try to find out the pincode for each person from the address"
   ]
  },
  {
   "cell_type": "code",
   "execution_count": 7,
   "id": "d8ab641b",
   "metadata": {},
   "outputs": [
    {
     "data": {
      "text/html": [
       "<div>\n",
       "<style scoped>\n",
       "    .dataframe tbody tr th:only-of-type {\n",
       "        vertical-align: middle;\n",
       "    }\n",
       "\n",
       "    .dataframe tbody tr th {\n",
       "        vertical-align: top;\n",
       "    }\n",
       "\n",
       "    .dataframe thead th {\n",
       "        text-align: right;\n",
       "    }\n",
       "</style>\n",
       "<table border=\"1\" class=\"dataframe\">\n",
       "  <thead>\n",
       "    <tr style=\"text-align: right;\">\n",
       "      <th></th>\n",
       "      <th>ID</th>\n",
       "      <th>Name</th>\n",
       "      <th>Address</th>\n",
       "      <th>Pincode</th>\n",
       "    </tr>\n",
       "  </thead>\n",
       "  <tbody>\n",
       "    <tr>\n",
       "      <th>0</th>\n",
       "      <td>1</td>\n",
       "      <td>X</td>\n",
       "      <td>X resides at Pincode 12345</td>\n",
       "      <td>[12345]</td>\n",
       "    </tr>\n",
       "    <tr>\n",
       "      <th>1</th>\n",
       "      <td>2</td>\n",
       "      <td>Y</td>\n",
       "      <td>Y resides at Pincode 45678</td>\n",
       "      <td>[45678]</td>\n",
       "    </tr>\n",
       "    <tr>\n",
       "      <th>2</th>\n",
       "      <td>3</td>\n",
       "      <td>Z</td>\n",
       "      <td>Z stays at Pincode 89765</td>\n",
       "      <td>[89765]</td>\n",
       "    </tr>\n",
       "  </tbody>\n",
       "</table>\n",
       "</div>"
      ],
      "text/plain": [
       "   ID Name                     Address  Pincode\n",
       "0   1    X  X resides at Pincode 12345  [12345]\n",
       "1   2    Y  Y resides at Pincode 45678  [45678]\n",
       "2   3    Z    Z stays at Pincode 89765  [89765]"
      ]
     },
     "execution_count": 7,
     "metadata": {},
     "output_type": "execute_result"
    }
   ],
   "source": [
    "def find_pincode(Address):\n",
    "    return re.findall('[0-9]{5}', Address)\n",
    "\n",
    "df['Pincode'] = df['Address'].apply(find_pincode)\n",
    "df                                        "
   ]
  },
  {
   "cell_type": "markdown",
   "id": "66f0aac3",
   "metadata": {},
   "source": [
    "### Merging Data"
   ]
  },
  {
   "cell_type": "code",
   "execution_count": 8,
   "id": "ad2bcb7a",
   "metadata": {},
   "outputs": [],
   "source": [
    "# As part of this activity we will merge 2 csv.\n",
    "# These csv are having common headers as well as 2nd csv is having an entry common to the 1st one"
   ]
  },
  {
   "cell_type": "code",
   "execution_count": 9,
   "id": "5ed1f54b",
   "metadata": {},
   "outputs": [
    {
     "data": {
      "text/html": [
       "<div>\n",
       "<style scoped>\n",
       "    .dataframe tbody tr th:only-of-type {\n",
       "        vertical-align: middle;\n",
       "    }\n",
       "\n",
       "    .dataframe tbody tr th {\n",
       "        vertical-align: top;\n",
       "    }\n",
       "\n",
       "    .dataframe thead th {\n",
       "        text-align: right;\n",
       "    }\n",
       "</style>\n",
       "<table border=\"1\" class=\"dataframe\">\n",
       "  <thead>\n",
       "    <tr style=\"text-align: right;\">\n",
       "      <th></th>\n",
       "      <th>id</th>\n",
       "      <th>firstname</th>\n",
       "      <th>lastname</th>\n",
       "      <th>email</th>\n",
       "    </tr>\n",
       "  </thead>\n",
       "  <tbody>\n",
       "    <tr>\n",
       "      <th>0</th>\n",
       "      <td>1</td>\n",
       "      <td>Carilyn</td>\n",
       "      <td>Alisia</td>\n",
       "      <td>Carilyn.Alisia@yopmail.com</td>\n",
       "    </tr>\n",
       "    <tr>\n",
       "      <th>1</th>\n",
       "      <td>2</td>\n",
       "      <td>Fredericka</td>\n",
       "      <td>Tiffa</td>\n",
       "      <td>Fredericka.Tiffa@yopmail.com</td>\n",
       "    </tr>\n",
       "    <tr>\n",
       "      <th>2</th>\n",
       "      <td>3</td>\n",
       "      <td>Rozele</td>\n",
       "      <td>Justinn</td>\n",
       "      <td>Rozele.Justinn@yopmail.com</td>\n",
       "    </tr>\n",
       "    <tr>\n",
       "      <th>3</th>\n",
       "      <td>4</td>\n",
       "      <td>Jillayne</td>\n",
       "      <td>Kiersten</td>\n",
       "      <td>Jillayne.Kiersten@yopmail.com</td>\n",
       "    </tr>\n",
       "  </tbody>\n",
       "</table>\n",
       "</div>"
      ],
      "text/plain": [
       "   id   firstname  lastname                          email\n",
       "0   1     Carilyn    Alisia     Carilyn.Alisia@yopmail.com\n",
       "1   2  Fredericka     Tiffa   Fredericka.Tiffa@yopmail.com\n",
       "2   3      Rozele   Justinn     Rozele.Justinn@yopmail.com\n",
       "3   4    Jillayne  Kiersten  Jillayne.Kiersten@yopmail.com"
      ]
     },
     "execution_count": 9,
     "metadata": {},
     "output_type": "execute_result"
    }
   ],
   "source": [
    "df_csv1 = pd.read_csv('csv1.csv')\n",
    "df_csv1"
   ]
  },
  {
   "cell_type": "code",
   "execution_count": 10,
   "id": "4d191a74",
   "metadata": {},
   "outputs": [
    {
     "data": {
      "text/html": [
       "<div>\n",
       "<style scoped>\n",
       "    .dataframe tbody tr th:only-of-type {\n",
       "        vertical-align: middle;\n",
       "    }\n",
       "\n",
       "    .dataframe tbody tr th {\n",
       "        vertical-align: top;\n",
       "    }\n",
       "\n",
       "    .dataframe thead th {\n",
       "        text-align: right;\n",
       "    }\n",
       "</style>\n",
       "<table border=\"1\" class=\"dataframe\">\n",
       "  <thead>\n",
       "    <tr style=\"text-align: right;\">\n",
       "      <th></th>\n",
       "      <th>id</th>\n",
       "      <th>firstname</th>\n",
       "      <th>lastname</th>\n",
       "      <th>email</th>\n",
       "    </tr>\n",
       "  </thead>\n",
       "  <tbody>\n",
       "    <tr>\n",
       "      <th>0</th>\n",
       "      <td>1</td>\n",
       "      <td>Ofilia</td>\n",
       "      <td>Ivens</td>\n",
       "      <td>Ofilia.Ivens@yopmail.com</td>\n",
       "    </tr>\n",
       "    <tr>\n",
       "      <th>1</th>\n",
       "      <td>2</td>\n",
       "      <td>Cyb</td>\n",
       "      <td>Ralfston</td>\n",
       "      <td>Cyb.Ralfston@yopmail.com</td>\n",
       "    </tr>\n",
       "    <tr>\n",
       "      <th>2</th>\n",
       "      <td>3</td>\n",
       "      <td>Jillayne</td>\n",
       "      <td>Kiersten</td>\n",
       "      <td>Jillayne.Kiersten@yopmail.com</td>\n",
       "    </tr>\n",
       "  </tbody>\n",
       "</table>\n",
       "</div>"
      ],
      "text/plain": [
       "   id firstname  lastname                          email\n",
       "0   1    Ofilia     Ivens       Ofilia.Ivens@yopmail.com\n",
       "1   2       Cyb  Ralfston       Cyb.Ralfston@yopmail.com\n",
       "2   3  Jillayne  Kiersten  Jillayne.Kiersten@yopmail.com"
      ]
     },
     "execution_count": 10,
     "metadata": {},
     "output_type": "execute_result"
    }
   ],
   "source": [
    "df_csv2 = pd.read_csv('csv2.csv')\n",
    "df_csv2"
   ]
  },
  {
   "cell_type": "code",
   "execution_count": 12,
   "id": "810f304a",
   "metadata": {},
   "outputs": [
    {
     "data": {
      "text/plain": [
       "['csv1.csv', 'csv2.csv']"
      ]
     },
     "execution_count": 12,
     "metadata": {},
     "output_type": "execute_result"
    }
   ],
   "source": [
    "# Or we can use the glob feature to read all csv files at once\n",
    "#list all csv files only beginning with csv\n",
    "csv_files = glob.glob('csv*.{}'.format('csv'))\n",
    "csv_files"
   ]
  },
  {
   "cell_type": "code",
   "execution_count": 13,
   "id": "a8dc17e1",
   "metadata": {},
   "outputs": [
    {
     "data": {
      "text/html": [
       "<div>\n",
       "<style scoped>\n",
       "    .dataframe tbody tr th:only-of-type {\n",
       "        vertical-align: middle;\n",
       "    }\n",
       "\n",
       "    .dataframe tbody tr th {\n",
       "        vertical-align: top;\n",
       "    }\n",
       "\n",
       "    .dataframe thead th {\n",
       "        text-align: right;\n",
       "    }\n",
       "</style>\n",
       "<table border=\"1\" class=\"dataframe\">\n",
       "  <thead>\n",
       "    <tr style=\"text-align: right;\">\n",
       "      <th></th>\n",
       "      <th>id</th>\n",
       "      <th>firstname</th>\n",
       "      <th>lastname</th>\n",
       "      <th>email</th>\n",
       "    </tr>\n",
       "  </thead>\n",
       "  <tbody>\n",
       "    <tr>\n",
       "      <th>0</th>\n",
       "      <td>1</td>\n",
       "      <td>Carilyn</td>\n",
       "      <td>Alisia</td>\n",
       "      <td>Carilyn.Alisia@yopmail.com</td>\n",
       "    </tr>\n",
       "    <tr>\n",
       "      <th>1</th>\n",
       "      <td>2</td>\n",
       "      <td>Fredericka</td>\n",
       "      <td>Tiffa</td>\n",
       "      <td>Fredericka.Tiffa@yopmail.com</td>\n",
       "    </tr>\n",
       "    <tr>\n",
       "      <th>2</th>\n",
       "      <td>3</td>\n",
       "      <td>Rozele</td>\n",
       "      <td>Justinn</td>\n",
       "      <td>Rozele.Justinn@yopmail.com</td>\n",
       "    </tr>\n",
       "    <tr>\n",
       "      <th>3</th>\n",
       "      <td>4</td>\n",
       "      <td>Jillayne</td>\n",
       "      <td>Kiersten</td>\n",
       "      <td>Jillayne.Kiersten@yopmail.com</td>\n",
       "    </tr>\n",
       "    <tr>\n",
       "      <th>4</th>\n",
       "      <td>1</td>\n",
       "      <td>Ofilia</td>\n",
       "      <td>Ivens</td>\n",
       "      <td>Ofilia.Ivens@yopmail.com</td>\n",
       "    </tr>\n",
       "    <tr>\n",
       "      <th>5</th>\n",
       "      <td>2</td>\n",
       "      <td>Cyb</td>\n",
       "      <td>Ralfston</td>\n",
       "      <td>Cyb.Ralfston@yopmail.com</td>\n",
       "    </tr>\n",
       "    <tr>\n",
       "      <th>6</th>\n",
       "      <td>3</td>\n",
       "      <td>Jillayne</td>\n",
       "      <td>Kiersten</td>\n",
       "      <td>Jillayne.Kiersten@yopmail.com</td>\n",
       "    </tr>\n",
       "  </tbody>\n",
       "</table>\n",
       "</div>"
      ],
      "text/plain": [
       "   id   firstname  lastname                          email\n",
       "0   1     Carilyn    Alisia     Carilyn.Alisia@yopmail.com\n",
       "1   2  Fredericka     Tiffa   Fredericka.Tiffa@yopmail.com\n",
       "2   3      Rozele   Justinn     Rozele.Justinn@yopmail.com\n",
       "3   4    Jillayne  Kiersten  Jillayne.Kiersten@yopmail.com\n",
       "4   1      Ofilia     Ivens       Ofilia.Ivens@yopmail.com\n",
       "5   2         Cyb  Ralfston       Cyb.Ralfston@yopmail.com\n",
       "6   3    Jillayne  Kiersten  Jillayne.Kiersten@yopmail.com"
      ]
     },
     "execution_count": 13,
     "metadata": {},
     "output_type": "execute_result"
    }
   ],
   "source": [
    "# Let's create a new dataframe with entries from both appended\n",
    "df_append = pd.DataFrame()\n",
    "#append all files together\n",
    "for file in csv_files:\n",
    "            df_temp = pd.read_csv(file)\n",
    "            df_append = df_append.append(df_temp, ignore_index=True)\n",
    "df_append"
   ]
  },
  {
   "cell_type": "code",
   "execution_count": null,
   "id": "d434a438",
   "metadata": {},
   "outputs": [],
   "source": [
    "# We can see that append operation has added the common row twice in the final dataframe"
   ]
  },
  {
   "cell_type": "code",
   "execution_count": 14,
   "id": "a25d0242",
   "metadata": {},
   "outputs": [
    {
     "data": {
      "text/html": [
       "<div>\n",
       "<style scoped>\n",
       "    .dataframe tbody tr th:only-of-type {\n",
       "        vertical-align: middle;\n",
       "    }\n",
       "\n",
       "    .dataframe tbody tr th {\n",
       "        vertical-align: top;\n",
       "    }\n",
       "\n",
       "    .dataframe thead th {\n",
       "        text-align: right;\n",
       "    }\n",
       "</style>\n",
       "<table border=\"1\" class=\"dataframe\">\n",
       "  <thead>\n",
       "    <tr style=\"text-align: right;\">\n",
       "      <th></th>\n",
       "      <th>id</th>\n",
       "      <th>firstname</th>\n",
       "      <th>lastname</th>\n",
       "      <th>email</th>\n",
       "    </tr>\n",
       "  </thead>\n",
       "  <tbody>\n",
       "    <tr>\n",
       "      <th>0</th>\n",
       "      <td>1</td>\n",
       "      <td>Carilyn</td>\n",
       "      <td>Alisia</td>\n",
       "      <td>Carilyn.Alisia@yopmail.com</td>\n",
       "    </tr>\n",
       "    <tr>\n",
       "      <th>1</th>\n",
       "      <td>2</td>\n",
       "      <td>Fredericka</td>\n",
       "      <td>Tiffa</td>\n",
       "      <td>Fredericka.Tiffa@yopmail.com</td>\n",
       "    </tr>\n",
       "    <tr>\n",
       "      <th>2</th>\n",
       "      <td>3</td>\n",
       "      <td>Rozele</td>\n",
       "      <td>Justinn</td>\n",
       "      <td>Rozele.Justinn@yopmail.com</td>\n",
       "    </tr>\n",
       "    <tr>\n",
       "      <th>3</th>\n",
       "      <td>4</td>\n",
       "      <td>Jillayne</td>\n",
       "      <td>Kiersten</td>\n",
       "      <td>Jillayne.Kiersten@yopmail.com</td>\n",
       "    </tr>\n",
       "    <tr>\n",
       "      <th>4</th>\n",
       "      <td>1</td>\n",
       "      <td>Ofilia</td>\n",
       "      <td>Ivens</td>\n",
       "      <td>Ofilia.Ivens@yopmail.com</td>\n",
       "    </tr>\n",
       "    <tr>\n",
       "      <th>5</th>\n",
       "      <td>2</td>\n",
       "      <td>Cyb</td>\n",
       "      <td>Ralfston</td>\n",
       "      <td>Cyb.Ralfston@yopmail.com</td>\n",
       "    </tr>\n",
       "    <tr>\n",
       "      <th>6</th>\n",
       "      <td>3</td>\n",
       "      <td>Jillayne</td>\n",
       "      <td>Kiersten</td>\n",
       "      <td>Jillayne.Kiersten@yopmail.com</td>\n",
       "    </tr>\n",
       "  </tbody>\n",
       "</table>\n",
       "</div>"
      ],
      "text/plain": [
       "   id   firstname  lastname                          email\n",
       "0   1     Carilyn    Alisia     Carilyn.Alisia@yopmail.com\n",
       "1   2  Fredericka     Tiffa   Fredericka.Tiffa@yopmail.com\n",
       "2   3      Rozele   Justinn     Rozele.Justinn@yopmail.com\n",
       "3   4    Jillayne  Kiersten  Jillayne.Kiersten@yopmail.com\n",
       "4   1      Ofilia     Ivens       Ofilia.Ivens@yopmail.com\n",
       "5   2         Cyb  Ralfston       Cyb.Ralfston@yopmail.com\n",
       "6   3    Jillayne  Kiersten  Jillayne.Kiersten@yopmail.com"
      ]
     },
     "execution_count": 14,
     "metadata": {},
     "output_type": "execute_result"
    }
   ],
   "source": [
    "df_concat = pd.concat([pd.read_csv(f) for f in csv_files ], ignore_index=True)\n",
    "df_concat"
   ]
  }
 ],
 "metadata": {
  "kernelspec": {
   "display_name": "Python 3 (ipykernel)",
   "language": "python",
   "name": "python3"
  },
  "language_info": {
   "codemirror_mode": {
    "name": "ipython",
    "version": 3
   },
   "file_extension": ".py",
   "mimetype": "text/x-python",
   "name": "python",
   "nbconvert_exporter": "python",
   "pygments_lexer": "ipython3",
   "version": "3.9.12"
  }
 },
 "nbformat": 4,
 "nbformat_minor": 5
}
